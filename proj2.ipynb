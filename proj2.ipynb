{
 "cells": [
  {
   "cell_type": "markdown",
   "metadata": {},
   "source": [
    "# Supervised Machine Learning"
   ]
  },
  {
   "cell_type": "code",
   "execution_count": 80,
   "metadata": {},
   "outputs": [],
   "source": [
    "import pandas as pd\n",
    "pd.options.display.max_colwidth=100"
   ]
  },
  {
   "cell_type": "markdown",
   "metadata": {},
   "source": [
    "## Using original train and eval set"
   ]
  },
  {
   "cell_type": "code",
   "execution_count": 81,
   "metadata": {},
   "outputs": [
    {
     "data": {
      "text/plain": [
       "(22987,)"
      ]
     },
     "execution_count": 81,
     "metadata": {},
     "output_type": "execute_result"
    }
   ],
   "source": [
    "# Open train-tweets.csv\n",
    "path = \"/Users/kaisoon/Google Drive/Code/Python/COMP90049_KT/MachLearning/train-tweets.csv\"\n",
    "X_train = pd.read_csv(path)\n",
    "X_train = X_train['tweet']\n",
    "X_train.shape"
   ]
  },
  {
   "cell_type": "code",
   "execution_count": 82,
   "metadata": {},
   "outputs": [
    {
     "data": {
      "text/plain": [
       "(4926,)"
      ]
     },
     "execution_count": 82,
     "metadata": {},
     "output_type": "execute_result"
    }
   ],
   "source": [
    "# Open eval-tweets.csv\n",
    "path = \"/Users/kaisoon/Google Drive/Code/Python/COMP90049_KT/MachLearning/eval-tweets.csv\"\n",
    "X_eval = pd.read_csv(path)\n",
    "X_eval = X_eval['tweet']\n",
    "X_eval.shape"
   ]
  },
  {
   "cell_type": "code",
   "execution_count": 83,
   "metadata": {},
   "outputs": [
    {
     "data": {
      "text/plain": [
       "(22987,)"
      ]
     },
     "execution_count": 83,
     "metadata": {},
     "output_type": "execute_result"
    }
   ],
   "source": [
    "# Open train-labels.csv\n",
    "path = \"/Users/kaisoon/Google Drive/Code/Python/COMP90049_KT/MachLearning/train-labels.csv\"\n",
    "y_train = pd.read_csv(path)\n",
    "y_train = y_train['label']\n",
    "y_train.shape"
   ]
  },
  {
   "cell_type": "code",
   "execution_count": 84,
   "metadata": {},
   "outputs": [
    {
     "data": {
      "text/plain": [
       "(4926,)"
      ]
     },
     "execution_count": 84,
     "metadata": {},
     "output_type": "execute_result"
    }
   ],
   "source": [
    "# Open eval-labels.csv\n",
    "path = \"/Users/kaisoon/Google Drive/Code/Python/COMP90049_KT/MachLearning/eval-labels.csv\"\n",
    "y_eval = pd.read_csv(path)\n",
    "y_eval = y_eval['label']\n",
    "y_eval.shape"
   ]
  },
  {
   "cell_type": "code",
   "execution_count": 85,
   "metadata": {},
   "outputs": [
    {
     "name": "stderr",
     "output_type": "stream",
     "text": [
      "/Users/kaisoon/anaconda3/lib/python3.7/site-packages/sklearn/ensemble/forest.py:245: FutureWarning: The default value of n_estimators will change from 10 in version 0.20 to 100 in 0.22.\n",
      "  \"10 in version 0.20 to 100 in 0.22.\", FutureWarning)\n"
     ]
    },
    {
     "name": "stdout",
     "output_type": "stream",
     "text": [
      "     0     1    2\n",
      "0  282   670   86\n",
      "1  205  1923  272\n",
      "2   68   845  575\n",
      "              precision    recall  f1-score   support\n",
      "\n",
      "    negative       0.51      0.27      0.35      1038\n",
      "     neutral       0.56      0.80      0.66      2400\n",
      "    positive       0.62      0.39      0.48      1488\n",
      "\n",
      "    accuracy                           0.56      4926\n",
      "   macro avg       0.56      0.49      0.50      4926\n",
      "weighted avg       0.57      0.56      0.54      4926\n",
      "\n",
      "0.5643524157531465\n"
     ]
    }
   ],
   "source": [
    "# Vectorise document by vocab count weighted with TF-IDF and model with Random Forest\n",
    "from sklearn.pipeline import Pipeline\n",
    "from sklearn.feature_extraction.text import TfidfVectorizer\n",
    "from sklearn.ensemble import RandomForestClassifier\n",
    "from sklearn.metrics import confusion_matrix, classification_report\n",
    "from sklearn import metrics\n",
    "\n",
    "pipe = Pipeline([(\"tfidf\", TfidfVectorizer()), (\"rndf\", RandomForestClassifier())])\n",
    "pipe.fit(X_train, y_train)\n",
    "pred = pipe.predict(X_eval)\n",
    "\n",
    "# Display results\n",
    "cm = pd.DataFrame(confusion_matrix(y_eval, pred))\n",
    "print(cm)\n",
    "print(classification_report(y_eval, pred))\n",
    "prec = metrics.precision_score(y_eval, pred, average=None)\n",
    "recall = metrics.recall_score(y_eval, pred, average=None)\n",
    "# print(metrics.accuracy_score(y_eval, pred))"
   ]
  },
  {
   "cell_type": "markdown",
   "metadata": {},
   "source": [
    "## Splitting dataset randomly to get train and eval set"
   ]
  },
  {
   "cell_type": "code",
   "execution_count": 117,
   "metadata": {
    "scrolled": true
   },
   "outputs": [
    {
     "data": {
      "text/html": [
       "<div>\n",
       "<style scoped>\n",
       "    .dataframe tbody tr th:only-of-type {\n",
       "        vertical-align: middle;\n",
       "    }\n",
       "\n",
       "    .dataframe tbody tr th {\n",
       "        vertical-align: top;\n",
       "    }\n",
       "\n",
       "    .dataframe thead th {\n",
       "        text-align: right;\n",
       "    }\n",
       "</style>\n",
       "<table border=\"1\" class=\"dataframe\">\n",
       "  <thead>\n",
       "    <tr style=\"text-align: right;\">\n",
       "      <th></th>\n",
       "      <th>tweet</th>\n",
       "      <th>id</th>\n",
       "    </tr>\n",
       "  </thead>\n",
       "  <tbody>\n",
       "    <tr>\n",
       "      <th>0</th>\n",
       "      <td>It has been a blessing for many with no Medicaid expansion in Florida. Most jobs don't offer ins...</td>\n",
       "      <td>802334127760490496</td>\n",
       "    </tr>\n",
       "    <tr>\n",
       "      <th>1</th>\n",
       "      <td>'Flashback Friday to last halloween when I was Hulk Hogan. @HulkHogan  Good vibes are with you, ...</td>\n",
       "      <td>624764543663742976</td>\n",
       "    </tr>\n",
       "    <tr>\n",
       "      <th>2</th>\n",
       "      <td>Doctors hit campaign trail as race to medical council elections heats up https://t.co/iiFdwb9v0W...</td>\n",
       "      <td>805582613687713793</td>\n",
       "    </tr>\n",
       "    <tr>\n",
       "      <th>3</th>\n",
       "      <td>Is anybody going to the radio station tomorrow to see Shawn? Me and my friend may go but we woul...</td>\n",
       "      <td>637480203497832448</td>\n",
       "    </tr>\n",
       "    <tr>\n",
       "      <th>4</th>\n",
       "      <td>I just found out Naruto didn't become the 5th Hokage....</td>\n",
       "      <td>641096279930507265</td>\n",
       "    </tr>\n",
       "  </tbody>\n",
       "</table>\n",
       "</div>"
      ],
      "text/plain": [
       "                                                                                                 tweet  \\\n",
       "0  It has been a blessing for many with no Medicaid expansion in Florida. Most jobs don't offer ins...   \n",
       "1  'Flashback Friday to last halloween when I was Hulk Hogan. @HulkHogan  Good vibes are with you, ...   \n",
       "2  Doctors hit campaign trail as race to medical council elections heats up https://t.co/iiFdwb9v0W...   \n",
       "3  Is anybody going to the radio station tomorrow to see Shawn? Me and my friend may go but we woul...   \n",
       "4                                             I just found out Naruto didn't become the 5th Hokage....   \n",
       "\n",
       "                   id  \n",
       "0  802334127760490496  \n",
       "1  624764543663742976  \n",
       "2  805582613687713793  \n",
       "3  637480203497832448  \n",
       "4  641096279930507265  "
      ]
     },
     "execution_count": 117,
     "metadata": {},
     "output_type": "execute_result"
    }
   ],
   "source": [
    "# Open train-tweets.csv\n",
    "path = \"/Users/kaisoon/Google Drive/Code/Python/COMP90049_KT/MachLearning/train-tweets.csv\"\n",
    "tweet1 = pd.read_csv(path)\n",
    "tweet1.head()"
   ]
  },
  {
   "cell_type": "code",
   "execution_count": 118,
   "metadata": {
    "scrolled": true
   },
   "outputs": [
    {
     "data": {
      "text/plain": [
       "(22987, 2)"
      ]
     },
     "execution_count": 118,
     "metadata": {},
     "output_type": "execute_result"
    }
   ],
   "source": [
    "tweet1.shape"
   ]
  },
  {
   "cell_type": "code",
   "execution_count": 119,
   "metadata": {},
   "outputs": [
    {
     "data": {
      "text/plain": [
       "tweet    if tim duncan played one more season we would've been an able to call him 21 savage 😔...\n",
       "id                                                                             802314709106126848\n",
       "Name: 56, dtype: object"
      ]
     },
     "execution_count": 119,
     "metadata": {},
     "output_type": "execute_result"
    }
   ],
   "source": [
    "# Check that emoticons are still in tact\n",
    "tweet1.loc[56]"
   ]
  },
  {
   "cell_type": "code",
   "execution_count": 120,
   "metadata": {},
   "outputs": [
    {
     "data": {
      "text/html": [
       "<div>\n",
       "<style scoped>\n",
       "    .dataframe tbody tr th:only-of-type {\n",
       "        vertical-align: middle;\n",
       "    }\n",
       "\n",
       "    .dataframe tbody tr th {\n",
       "        vertical-align: top;\n",
       "    }\n",
       "\n",
       "    .dataframe thead th {\n",
       "        text-align: right;\n",
       "    }\n",
       "</style>\n",
       "<table border=\"1\" class=\"dataframe\">\n",
       "  <thead>\n",
       "    <tr style=\"text-align: right;\">\n",
       "      <th></th>\n",
       "      <th>tweet</th>\n",
       "      <th>id</th>\n",
       "    </tr>\n",
       "  </thead>\n",
       "  <tbody>\n",
       "    <tr>\n",
       "      <th>0</th>\n",
       "      <td>Today or Tomorrow night work have to been done by midnight. No shame or sharing with twilight yo...</td>\n",
       "      <td>676020703410462720</td>\n",
       "    </tr>\n",
       "    <tr>\n",
       "      <th>1</th>\n",
       "      <td>'in any time passing Discussion with Christians , they always Highlight Jihad in Islam.  Some of...</td>\n",
       "      <td>638664771693346816</td>\n",
       "    </tr>\n",
       "    <tr>\n",
       "      <th>2</th>\n",
       "      <td>Wishhhhh I was going to Jason Aldean tomorrow</td>\n",
       "      <td>631543842194501632</td>\n",
       "    </tr>\n",
       "    <tr>\n",
       "      <th>3</th>\n",
       "      <td>@kenklippenstein she is obviously right. putin does the same with le pen, fpö. afd etc. in europ...</td>\n",
       "      <td>802210698931634048</td>\n",
       "    </tr>\n",
       "    <tr>\n",
       "      <th>4</th>\n",
       "      <td>I am thankful for @bitchy_antics for pointing out how all the animals in the shop sat up when Th...</td>\n",
       "      <td>669918243163922432</td>\n",
       "    </tr>\n",
       "  </tbody>\n",
       "</table>\n",
       "</div>"
      ],
      "text/plain": [
       "                                                                                                 tweet  \\\n",
       "0  Today or Tomorrow night work have to been done by midnight. No shame or sharing with twilight yo...   \n",
       "1  'in any time passing Discussion with Christians , they always Highlight Jihad in Islam.  Some of...   \n",
       "2                                                        Wishhhhh I was going to Jason Aldean tomorrow   \n",
       "3  @kenklippenstein she is obviously right. putin does the same with le pen, fpö. afd etc. in europ...   \n",
       "4  I am thankful for @bitchy_antics for pointing out how all the animals in the shop sat up when Th...   \n",
       "\n",
       "                   id  \n",
       "0  676020703410462720  \n",
       "1  638664771693346816  \n",
       "2  631543842194501632  \n",
       "3  802210698931634048  \n",
       "4  669918243163922432  "
      ]
     },
     "execution_count": 120,
     "metadata": {},
     "output_type": "execute_result"
    }
   ],
   "source": [
    "# Open eval-tweets.csv\n",
    "path = \"/Users/kaisoon/Google Drive/Code/Python/COMP90049_KT/MachLearning/eval-tweets.csv\"\n",
    "tweet2 = pd.read_csv(path)\n",
    "tweet2.drop(\"tweetExtra\", axis=1, inplace=True)\n",
    "tweet2.head()"
   ]
  },
  {
   "cell_type": "code",
   "execution_count": 92,
   "metadata": {},
   "outputs": [
    {
     "data": {
      "text/plain": [
       "(4926, 2)"
      ]
     },
     "execution_count": 92,
     "metadata": {},
     "output_type": "execute_result"
    }
   ],
   "source": [
    "tweet2.shape"
   ]
  },
  {
   "cell_type": "code",
   "execution_count": 93,
   "metadata": {},
   "outputs": [
    {
     "data": {
      "text/plain": [
       "(27913, 2)"
      ]
     },
     "execution_count": 93,
     "metadata": {},
     "output_type": "execute_result"
    }
   ],
   "source": [
    "tweet = pd.concat([tweet1, tweet2], ignore_index=True)\n",
    "tweet.shape"
   ]
  },
  {
   "cell_type": "code",
   "execution_count": 94,
   "metadata": {},
   "outputs": [
    {
     "data": {
      "text/plain": [
       "tweet    0\n",
       "id       0\n",
       "dtype: int64"
      ]
     },
     "execution_count": 94,
     "metadata": {},
     "output_type": "execute_result"
    }
   ],
   "source": [
    "# Check that there is no null data in train\n",
    "tweet.isnull().sum()"
   ]
  },
  {
   "cell_type": "code",
   "execution_count": 95,
   "metadata": {},
   "outputs": [
    {
     "data": {
      "text/html": [
       "<div>\n",
       "<style scoped>\n",
       "    .dataframe tbody tr th:only-of-type {\n",
       "        vertical-align: middle;\n",
       "    }\n",
       "\n",
       "    .dataframe tbody tr th {\n",
       "        vertical-align: top;\n",
       "    }\n",
       "\n",
       "    .dataframe thead th {\n",
       "        text-align: right;\n",
       "    }\n",
       "</style>\n",
       "<table border=\"1\" class=\"dataframe\">\n",
       "  <thead>\n",
       "    <tr style=\"text-align: right;\">\n",
       "      <th></th>\n",
       "      <th>id</th>\n",
       "      <th>label</th>\n",
       "    </tr>\n",
       "  </thead>\n",
       "  <tbody>\n",
       "    <tr>\n",
       "      <th>0</th>\n",
       "      <td>802334127760490496</td>\n",
       "      <td>negative</td>\n",
       "    </tr>\n",
       "    <tr>\n",
       "      <th>1</th>\n",
       "      <td>624764543663742976</td>\n",
       "      <td>positive</td>\n",
       "    </tr>\n",
       "    <tr>\n",
       "      <th>2</th>\n",
       "      <td>805582613687713793</td>\n",
       "      <td>neutral</td>\n",
       "    </tr>\n",
       "    <tr>\n",
       "      <th>3</th>\n",
       "      <td>637480203497832448</td>\n",
       "      <td>positive</td>\n",
       "    </tr>\n",
       "    <tr>\n",
       "      <th>4</th>\n",
       "      <td>641096279930507265</td>\n",
       "      <td>neutral</td>\n",
       "    </tr>\n",
       "  </tbody>\n",
       "</table>\n",
       "</div>"
      ],
      "text/plain": [
       "                   id     label\n",
       "0  802334127760490496  negative\n",
       "1  624764543663742976  positive\n",
       "2  805582613687713793   neutral\n",
       "3  637480203497832448  positive\n",
       "4  641096279930507265   neutral"
      ]
     },
     "execution_count": 95,
     "metadata": {},
     "output_type": "execute_result"
    }
   ],
   "source": [
    "# Open train-labels.csv\n",
    "path = \"/Users/kaisoon/Google Drive/Code/Python/COMP90049_KT/MachLearning/train-labels.csv\"\n",
    "label1 = pd.read_csv(path)\n",
    "label1.head()"
   ]
  },
  {
   "cell_type": "code",
   "execution_count": 96,
   "metadata": {},
   "outputs": [
    {
     "data": {
      "text/plain": [
       "(22987, 2)"
      ]
     },
     "execution_count": 96,
     "metadata": {},
     "output_type": "execute_result"
    }
   ],
   "source": [
    "label1.shape"
   ]
  },
  {
   "cell_type": "code",
   "execution_count": 97,
   "metadata": {},
   "outputs": [
    {
     "data": {
      "text/html": [
       "<div>\n",
       "<style scoped>\n",
       "    .dataframe tbody tr th:only-of-type {\n",
       "        vertical-align: middle;\n",
       "    }\n",
       "\n",
       "    .dataframe tbody tr th {\n",
       "        vertical-align: top;\n",
       "    }\n",
       "\n",
       "    .dataframe thead th {\n",
       "        text-align: right;\n",
       "    }\n",
       "</style>\n",
       "<table border=\"1\" class=\"dataframe\">\n",
       "  <thead>\n",
       "    <tr style=\"text-align: right;\">\n",
       "      <th></th>\n",
       "      <th>id</th>\n",
       "      <th>label</th>\n",
       "    </tr>\n",
       "  </thead>\n",
       "  <tbody>\n",
       "    <tr>\n",
       "      <th>0</th>\n",
       "      <td>676020703410462720</td>\n",
       "      <td>neutral</td>\n",
       "    </tr>\n",
       "    <tr>\n",
       "      <th>1</th>\n",
       "      <td>638664771693346816</td>\n",
       "      <td>neutral</td>\n",
       "    </tr>\n",
       "    <tr>\n",
       "      <th>2</th>\n",
       "      <td>631543842194501632</td>\n",
       "      <td>positive</td>\n",
       "    </tr>\n",
       "    <tr>\n",
       "      <th>3</th>\n",
       "      <td>802210698931634048</td>\n",
       "      <td>neutral</td>\n",
       "    </tr>\n",
       "    <tr>\n",
       "      <th>4</th>\n",
       "      <td>669918243163922432</td>\n",
       "      <td>positive</td>\n",
       "    </tr>\n",
       "  </tbody>\n",
       "</table>\n",
       "</div>"
      ],
      "text/plain": [
       "                   id     label\n",
       "0  676020703410462720   neutral\n",
       "1  638664771693346816   neutral\n",
       "2  631543842194501632  positive\n",
       "3  802210698931634048   neutral\n",
       "4  669918243163922432  positive"
      ]
     },
     "execution_count": 97,
     "metadata": {},
     "output_type": "execute_result"
    }
   ],
   "source": [
    "# Open eval-labels.csv\n",
    "path = \"/Users/kaisoon/Google Drive/Code/Python/COMP90049_KT/MachLearning/eval-labels.csv\"\n",
    "label2 = pd.read_csv(path)\n",
    "label2.head()"
   ]
  },
  {
   "cell_type": "code",
   "execution_count": 98,
   "metadata": {},
   "outputs": [
    {
     "data": {
      "text/plain": [
       "(4926, 2)"
      ]
     },
     "execution_count": 98,
     "metadata": {},
     "output_type": "execute_result"
    }
   ],
   "source": [
    "label2.shape"
   ]
  },
  {
   "cell_type": "code",
   "execution_count": 99,
   "metadata": {},
   "outputs": [
    {
     "data": {
      "text/html": [
       "<div>\n",
       "<style scoped>\n",
       "    .dataframe tbody tr th:only-of-type {\n",
       "        vertical-align: middle;\n",
       "    }\n",
       "\n",
       "    .dataframe tbody tr th {\n",
       "        vertical-align: top;\n",
       "    }\n",
       "\n",
       "    .dataframe thead th {\n",
       "        text-align: right;\n",
       "    }\n",
       "</style>\n",
       "<table border=\"1\" class=\"dataframe\">\n",
       "  <thead>\n",
       "    <tr style=\"text-align: right;\">\n",
       "      <th></th>\n",
       "      <th>id</th>\n",
       "      <th>label</th>\n",
       "    </tr>\n",
       "  </thead>\n",
       "  <tbody>\n",
       "    <tr>\n",
       "      <th>0</th>\n",
       "      <td>802334127760490496</td>\n",
       "      <td>negative</td>\n",
       "    </tr>\n",
       "    <tr>\n",
       "      <th>1</th>\n",
       "      <td>624764543663742976</td>\n",
       "      <td>positive</td>\n",
       "    </tr>\n",
       "    <tr>\n",
       "      <th>2</th>\n",
       "      <td>805582613687713793</td>\n",
       "      <td>neutral</td>\n",
       "    </tr>\n",
       "    <tr>\n",
       "      <th>3</th>\n",
       "      <td>637480203497832448</td>\n",
       "      <td>positive</td>\n",
       "    </tr>\n",
       "    <tr>\n",
       "      <th>4</th>\n",
       "      <td>641096279930507265</td>\n",
       "      <td>neutral</td>\n",
       "    </tr>\n",
       "  </tbody>\n",
       "</table>\n",
       "</div>"
      ],
      "text/plain": [
       "                   id     label\n",
       "0  802334127760490496  negative\n",
       "1  624764543663742976  positive\n",
       "2  805582613687713793   neutral\n",
       "3  637480203497832448  positive\n",
       "4  641096279930507265   neutral"
      ]
     },
     "execution_count": 99,
     "metadata": {},
     "output_type": "execute_result"
    }
   ],
   "source": [
    "label = pd.concat([label1, label2], ignore_index=True)\n",
    "label.shape\n",
    "label.head()"
   ]
  },
  {
   "cell_type": "code",
   "execution_count": 100,
   "metadata": {},
   "outputs": [
    {
     "data": {
      "text/plain": [
       "neutral     13854\n",
       "positive     7959\n",
       "negative     6100\n",
       "Name: label, dtype: int64"
      ]
     },
     "execution_count": 100,
     "metadata": {},
     "output_type": "execute_result"
    }
   ],
   "source": [
    "label['label'].value_counts()"
   ]
  },
  {
   "cell_type": "code",
   "execution_count": 101,
   "metadata": {
    "scrolled": true
   },
   "outputs": [
    {
     "data": {
      "text/html": [
       "<div>\n",
       "<style scoped>\n",
       "    .dataframe tbody tr th:only-of-type {\n",
       "        vertical-align: middle;\n",
       "    }\n",
       "\n",
       "    .dataframe tbody tr th {\n",
       "        vertical-align: top;\n",
       "    }\n",
       "\n",
       "    .dataframe thead th {\n",
       "        text-align: right;\n",
       "    }\n",
       "</style>\n",
       "<table border=\"1\" class=\"dataframe\">\n",
       "  <thead>\n",
       "    <tr style=\"text-align: right;\">\n",
       "      <th></th>\n",
       "      <th>tweet</th>\n",
       "      <th>id</th>\n",
       "      <th>label</th>\n",
       "    </tr>\n",
       "  </thead>\n",
       "  <tbody>\n",
       "    <tr>\n",
       "      <th>0</th>\n",
       "      <td>It has been a blessing for many with no Medicaid expansion in Florida. Most jobs don't offer ins...</td>\n",
       "      <td>802334127760490496</td>\n",
       "      <td>negative</td>\n",
       "    </tr>\n",
       "    <tr>\n",
       "      <th>1</th>\n",
       "      <td>'Flashback Friday to last halloween when I was Hulk Hogan. @HulkHogan  Good vibes are with you, ...</td>\n",
       "      <td>624764543663742976</td>\n",
       "      <td>positive</td>\n",
       "    </tr>\n",
       "    <tr>\n",
       "      <th>2</th>\n",
       "      <td>Doctors hit campaign trail as race to medical council elections heats up https://t.co/iiFdwb9v0W...</td>\n",
       "      <td>805582613687713793</td>\n",
       "      <td>neutral</td>\n",
       "    </tr>\n",
       "    <tr>\n",
       "      <th>3</th>\n",
       "      <td>Is anybody going to the radio station tomorrow to see Shawn? Me and my friend may go but we woul...</td>\n",
       "      <td>637480203497832448</td>\n",
       "      <td>positive</td>\n",
       "    </tr>\n",
       "    <tr>\n",
       "      <th>4</th>\n",
       "      <td>I just found out Naruto didn't become the 5th Hokage....</td>\n",
       "      <td>641096279930507265</td>\n",
       "      <td>neutral</td>\n",
       "    </tr>\n",
       "  </tbody>\n",
       "</table>\n",
       "</div>"
      ],
      "text/plain": [
       "                                                                                                 tweet  \\\n",
       "0  It has been a blessing for many with no Medicaid expansion in Florida. Most jobs don't offer ins...   \n",
       "1  'Flashback Friday to last halloween when I was Hulk Hogan. @HulkHogan  Good vibes are with you, ...   \n",
       "2  Doctors hit campaign trail as race to medical council elections heats up https://t.co/iiFdwb9v0W...   \n",
       "3  Is anybody going to the radio station tomorrow to see Shawn? Me and my friend may go but we woul...   \n",
       "4                                             I just found out Naruto didn't become the 5th Hokage....   \n",
       "\n",
       "                   id     label  \n",
       "0  802334127760490496  negative  \n",
       "1  624764543663742976  positive  \n",
       "2  805582613687713793   neutral  \n",
       "3  637480203497832448  positive  \n",
       "4  641096279930507265   neutral  "
      ]
     },
     "execution_count": 101,
     "metadata": {},
     "output_type": "execute_result"
    }
   ],
   "source": [
    "data = pd.merge(tweet, label, how='inner', on='id')\n",
    "data.head()"
   ]
  },
  {
   "cell_type": "code",
   "execution_count": 102,
   "metadata": {},
   "outputs": [
    {
     "data": {
      "text/plain": [
       "True"
      ]
     },
     "execution_count": 102,
     "metadata": {},
     "output_type": "execute_result"
    }
   ],
   "source": [
    "X = data['tweet']\n",
    "y = data['label']\n",
    "X.shape == y.shape"
   ]
  },
  {
   "cell_type": "code",
   "execution_count": 103,
   "metadata": {},
   "outputs": [],
   "source": [
    "# Split dataset into four portions\n",
    "from sklearn.model_selection import train_test_split\n",
    "X_train, X_eval, y_train, y_eval = train_test_split(X, y, test_size=0.3, random_state=42)"
   ]
  },
  {
   "cell_type": "code",
   "execution_count": 114,
   "metadata": {
    "scrolled": true
   },
   "outputs": [
    {
     "name": "stderr",
     "output_type": "stream",
     "text": [
      "/Users/kaisoon/anaconda3/lib/python3.7/site-packages/sklearn/ensemble/forest.py:245: FutureWarning: The default value of n_estimators will change from 10 in version 0.20 to 100 in 0.22.\n",
      "  \"10 in version 0.20 to 100 in 0.22.\", FutureWarning)\n"
     ]
    },
    {
     "name": "stdout",
     "output_type": "stream",
     "text": [
      "     0     1    2\n",
      "0  517  1158  177\n",
      "1  319  3270  559\n",
      "2  100  1304  970\n"
     ]
    }
   ],
   "source": [
    "# Vectorise document by vocab count weighted with TF-IDF and model with Random Forest\n",
    "from sklearn.pipeline import Pipeline\n",
    "from sklearn.feature_extraction.text import TfidfVectorizer\n",
    "from sklearn.ensemble import RandomForestClassifier\n",
    "from sklearn.metrics import confusion_matrix, classification_report\n",
    "from sklearn import metrics\n",
    "\n",
    "pipe = Pipeline([(\"tfidf\", TfidfVectorizer()), (\"rndf\", RandomForestClassifier())])\n",
    "pipe.fit(X_train, y_train)\n",
    "pred = pipe.predict(X_eval)\n",
    "\n",
    "# Display results\n",
    "cm = pd.DataFrame(confusion_matrix(y_eval, pred))\n",
    "print(cm)\n",
    "print(classification_report(y_eval, pred))\n",
    "prec = metrics.precision_score(y_eval, pred, average=None)\n",
    "recall = metrics.recall_score(y_eval, pred, average=None)\n",
    "# print(metrics.accuracy_score(y_eval, pred))"
   ]
  },
  {
   "cell_type": "code",
   "execution_count": 52,
   "metadata": {},
   "outputs": [
    {
     "name": "stderr",
     "output_type": "stream",
     "text": [
      "/anaconda3/lib/python3.6/site-packages/sklearn/ensemble/forest.py:245: FutureWarning: The default value of n_estimators will change from 10 in version 0.20 to 100 in 0.22.\n",
      "  \"10 in version 0.20 to 100 in 0.22.\", FutureWarning)\n"
     ]
    },
    {
     "name": "stdout",
     "output_type": "stream",
     "text": [
      "     0     1     2\n",
      "0  560  1169   112\n",
      "1  316  3380   406\n",
      "2   74  1341  1016\n",
      "              precision    recall  f1-score   support\n",
      "\n",
      "    negative       0.59      0.30      0.40      1841\n",
      "     neutral       0.57      0.82      0.68      4102\n",
      "    positive       0.66      0.42      0.51      2431\n",
      "\n",
      "    accuracy                           0.59      8374\n",
      "   macro avg       0.61      0.52      0.53      8374\n",
      "weighted avg       0.60      0.59      0.57      8374\n",
      "\n"
     ]
    },
    {
     "data": {
      "text/plain": [
       "0.5918318605206592"
      ]
     },
     "execution_count": 52,
     "metadata": {},
     "output_type": "execute_result"
    }
   ],
   "source": [
    "# Vectorise document by vocab count and model with Random Forest\n",
    "from sklearn.pipeline import Pipeline\n",
    "from sklearn.feature_extraction.text import CountVectorizer\n",
    "from sklearn.ensemble import RandomForestClassifier\n",
    "from sklearn.metrics import confusion_matrix, classification_report\n",
    "from sklearn import metrics\n",
    "\n",
    "pipe = Pipeline([(\"cnt\", CountVectorizer()), (\"rndf\", RandomForestClassifier())])\n",
    "pipe.fit(X_train, y_train)\n",
    "pred = pipe.predict(X_eval)\n",
    "\n",
    "# Display results\n",
    "# print(pd.DataFrame(confusion_matrix(y_eval, pred)))\n",
    "print(classification_report(y_eval, pred))\n",
    "metrics.accuracy_score(y_eval, pred)"
   ]
  },
  {
   "cell_type": "code",
   "execution_count": 53,
   "metadata": {},
   "outputs": [
    {
     "name": "stdout",
     "output_type": "stream",
     "text": [
      "              precision    recall  f1-score   support\n",
      "\n",
      "    negative       0.63      0.53      0.57      1841\n",
      "     neutral       0.65      0.73      0.69      4102\n",
      "    positive       0.65      0.59      0.62      2431\n",
      "\n",
      "    accuracy                           0.64      8374\n",
      "   macro avg       0.64      0.62      0.63      8374\n",
      "weighted avg       0.64      0.64      0.64      8374\n",
      "\n"
     ]
    },
    {
     "data": {
      "text/plain": [
       "0.6447336995462145"
      ]
     },
     "execution_count": 53,
     "metadata": {},
     "output_type": "execute_result"
    }
   ],
   "source": [
    "# Vectorise document by vocab count weighted with TF-IDF and model with Support Vector\n",
    "from sklearn.pipeline import Pipeline\n",
    "from sklearn.feature_extraction.text import TfidfVectorizer\n",
    "from sklearn.svm import LinearSVC\n",
    "from sklearn.metrics import confusion_matrix, classification_report\n",
    "from sklearn import metrics\n",
    "\n",
    "pipe = Pipeline([(\"tfidf\", TfidfVectorizer()), (\"rndf\", LinearSVC())])\n",
    "pipe.fit(X_train, y_train)\n",
    "pred = pipe.predict(X_eval)\n",
    "\n",
    "# Display results\n",
    "# print(pd.DataFrame(confusion_matrix(y_eval, pred)))\n",
    "print(classification_report(y_eval, pred))\n",
    "metrics.accuracy_score(y_eval, pred)"
   ]
  },
  {
   "cell_type": "code",
   "execution_count": 56,
   "metadata": {},
   "outputs": [
    {
     "name": "stdout",
     "output_type": "stream",
     "text": [
      "              precision    recall  f1-score   support\n",
      "\n",
      "    negative       0.63      0.53      0.57      1841\n",
      "     neutral       0.65      0.73      0.69      4102\n",
      "    positive       0.65      0.59      0.62      2431\n",
      "\n",
      "    accuracy                           0.64      8374\n",
      "   macro avg       0.64      0.62      0.63      8374\n",
      "weighted avg       0.64      0.64      0.64      8374\n",
      "\n"
     ]
    },
    {
     "data": {
      "text/plain": [
       "0.6447336995462145"
      ]
     },
     "execution_count": 56,
     "metadata": {},
     "output_type": "execute_result"
    }
   ],
   "source": [
    "# Vectorise document by vocab count weighted with TF-IDF and model with Support Vector\n",
    "from sklearn.pipeline import Pipeline\n",
    "from sklearn.feature_extraction.text import TfidfVectorizer\n",
    "from sklearn.svm import LinearSVC\n",
    "from sklearn.metrics import confusion_matrix, classification_report\n",
    "from sklearn import metrics\n",
    "\n",
    "pipe = Pipeline([(\"tfidf\", TfidfVectorizer()), (\"rndf\", LinearSVC())])\n",
    "pipe.fit(X_train, y_train)\n",
    "pred = pipe.predict(X_eval)\n",
    "\n",
    "# Display results\n",
    "# print(pd.DataFrame(confusion_matrix(y_eval, pred)))\n",
    "print(classification_report(y_eval, pred))\n",
    "metrics.accuracy_score(y_eval, pred)"
   ]
  },
  {
   "cell_type": "code",
   "execution_count": 54,
   "metadata": {},
   "outputs": [
    {
     "name": "stdout",
     "output_type": "stream",
     "text": [
      "              precision    recall  f1-score   support\n",
      "\n",
      "    negative       0.59      0.51      0.54      1841\n",
      "     neutral       0.63      0.68      0.65      4102\n",
      "    positive       0.60      0.60      0.60      2431\n",
      "\n",
      "    accuracy                           0.62      8374\n",
      "   macro avg       0.61      0.59      0.60      8374\n",
      "weighted avg       0.61      0.62      0.61      8374\n",
      "\n"
     ]
    },
    {
     "data": {
      "text/plain": [
       "0.6153570575591115"
      ]
     },
     "execution_count": 54,
     "metadata": {},
     "output_type": "execute_result"
    }
   ],
   "source": [
    "# Vectorise document by vocab count and model with Support Vector\n",
    "from sklearn.pipeline import Pipeline\n",
    "from sklearn.feature_extraction.text import CountVectorizer\n",
    "from sklearn.svm import LinearSVC\n",
    "from sklearn.metrics import confusion_matrix, classification_report\n",
    "from sklearn import metrics\n",
    "\n",
    "pipe = Pipeline([(\"cnt\", CountVectorizer()), (\"rndf\", LinearSVC())])\n",
    "pipe.fit(X_train, y_train)\n",
    "pred = pipe.predict(X_eval)\n",
    "\n",
    "# Display results\n",
    "# print(pd.DataFrame(confusion_matrix(y_eval, pred)))\n",
    "print(classification_report(y_eval, pred))\n",
    "metrics.accuracy_score(y_eval, pred)"
   ]
  },
  {
   "cell_type": "code",
   "execution_count": 59,
   "metadata": {},
   "outputs": [
    {
     "name": "stdout",
     "output_type": "stream",
     "text": [
      "     0     1    2\n",
      "0  108  1721   12\n",
      "1   15  4014   73\n",
      "2    3  1929  499\n",
      "              precision    recall  f1-score   support\n",
      "\n",
      "    negative       0.86      0.06      0.11      1841\n",
      "     neutral       0.52      0.98      0.68      4102\n",
      "    positive       0.85      0.21      0.33      2431\n",
      "\n",
      "    accuracy                           0.55      8374\n",
      "   macro avg       0.75      0.41      0.37      8374\n",
      "weighted avg       0.69      0.55      0.45      8374\n",
      "\n"
     ]
    },
    {
     "data": {
      "text/plain": [
       "0.5518270838309052"
      ]
     },
     "execution_count": 59,
     "metadata": {},
     "output_type": "execute_result"
    }
   ],
   "source": [
    "# Vectorise document by vocab count weighted with TF-IDF and model with Naive Bayes\n",
    "from sklearn.pipeline import Pipeline\n",
    "from sklearn.feature_extraction.text import TfidfVectorizer\n",
    "from sklearn.naive_bayes import MultinomialNB\n",
    "from sklearn.metrics import confusion_matrix, classification_report\n",
    "from sklearn import metrics\n",
    "\n",
    "pipe = Pipeline([(\"tfidf\", TfidfVectorizer()), (\"nb\", MultinomialNB())])\n",
    "pipe.fit(X_train, y_train)\n",
    "pred = pipe.predict(X_eval)\n",
    "\n",
    "# Display results\n",
    "print(pd.DataFrame(confusion_matrix(y_eval, pred)))\n",
    "print(classification_report(y_eval, pred))\n",
    "metrics.accuracy_score(y_eval, pred)"
   ]
  },
  {
   "cell_type": "code",
   "execution_count": null,
   "metadata": {},
   "outputs": [],
   "source": [
    "# Open train-tweets.csv\n",
    "path = \"/Users/kaisoon/Google Drive/Code/Python/COMP90049_KT/MachLearning/train-tweets.csv\"\n",
    "tweet1 = pd.read_csv(path)\n",
    "tweet1.head()"
   ]
  }
 ],
 "metadata": {
  "kernelspec": {
   "display_name": "Python 3",
   "language": "python",
   "name": "python3"
  },
  "language_info": {
   "codemirror_mode": {
    "name": "ipython",
    "version": 3
   },
   "file_extension": ".py",
   "mimetype": "text/x-python",
   "name": "python",
   "nbconvert_exporter": "python",
   "pygments_lexer": "ipython3",
   "version": "3.7.3"
  }
 },
 "nbformat": 4,
 "nbformat_minor": 2
}
